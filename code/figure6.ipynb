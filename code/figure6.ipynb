{
 "cells": [
  {
   "cell_type": "code",
   "execution_count": 1,
   "metadata": {},
   "outputs": [],
   "source": [
    "import numpy as np\n",
    "import pandas as pd\n",
    "import scanpy as sc\n",
    "import matplotlib.pyplot as plt\n",
    "from matplotlib import colors\n",
    "from scipy.sparse import csr_matrix\n",
    "from scipy.spatial import distance\n",
    "import os\n",
    "import warnings; warnings.simplefilter('ignore')\n",
    "import anndata\n",
    "import scrublet as scr\n",
    "\n",
    "import seaborn as sns\n",
    "sns.set_style('white')\n",
    "\n",
    "np.random.seed(0)\n",
    "sc.settings.verbosity = 3 \n",
    "sc.set_figure_params(scanpy=True, dpi=80)"
   ]
  },
  {
   "cell_type": "code",
   "execution_count": 2,
   "metadata": {},
   "outputs": [
    {
     "name": "stdout",
     "output_type": "stream",
     "text": [
      "scanpy==1.4.5 anndata==0.7.5 umap==0.3.10 numpy==1.17.2 scipy==1.5.2 pandas==1.1.2 scikit-learn==0.21.3 statsmodels==0.10.1 python-igraph==0.7.1 louvain==0.6.1\n"
     ]
    }
   ],
   "source": [
    "sc.logging.print_versions()"
   ]
  },
  {
   "cell_type": "markdown",
   "metadata": {},
   "source": [
    "### 6A"
   ]
  },
  {
   "cell_type": "code",
   "execution_count": 3,
   "metadata": {},
   "outputs": [],
   "source": [
    "adata = sc.read('veatch_b_all20.h5ad')"
   ]
  },
  {
   "cell_type": "code",
   "execution_count": 4,
   "metadata": {},
   "outputs": [],
   "source": [
    "adata.var['highly_variable'] = True"
   ]
  },
  {
   "cell_type": "code",
   "execution_count": 5,
   "metadata": {},
   "outputs": [],
   "source": [
    "adata.var['highly_variable'].loc['IGKC'] = False\n",
    "adata.var['highly_variable'].loc['IGLC3'] = False"
   ]
  },
  {
   "cell_type": "code",
   "execution_count": 6,
   "metadata": {},
   "outputs": [
    {
     "name": "stdout",
     "output_type": "stream",
     "text": [
      "computing PCA with n_comps = 50\n",
      "    on highly variable genes\n",
      "    finished (0:00:00)\n",
      "computing neighbors\n",
      "    using 'X_pca' with n_pcs = 20\n"
     ]
    },
    {
     "name": "stderr",
     "output_type": "stream",
     "text": [
      "/Users/cshasha/opt/anaconda3/lib/python3.7/site-packages/scanpy/neighbors/__init__.py:104: DeprecationWarning: Use is_view instead of isview, isview will be removed in the future.\n",
      "  if adata.isview:  # we shouldn't need this here...\n"
     ]
    },
    {
     "name": "stdout",
     "output_type": "stream",
     "text": [
      "    finished: added to `.uns['neighbors']`\n",
      "    'distances', distances for each pair of neighbors\n",
      "    'connectivities', weighted adjacency matrix (0:00:05)\n",
      "computing UMAP\n",
      "    finished: added\n",
      "    'X_umap', UMAP coordinates (adata.obsm) (0:00:14)\n",
      "running Leiden clustering\n",
      "    finished: found 9 clusters and added\n",
      "    'leiden', the cluster labels (adata.obs, categorical) (0:00:02)\n"
     ]
    }
   ],
   "source": [
    "sc.tl.pca(adata, random_state = 1010,svd_solver='arpack',use_highly_variable=True)\n",
    "sc.pp.neighbors(adata, n_neighbors=20, n_pcs=20, random_state = 1010)\n",
    "sc.tl.umap(adata, random_state = 1010, min_dist=0.2)\n",
    "sc.tl.leiden(adata, resolution=0.7, random_state = 1010)"
   ]
  },
  {
   "cell_type": "code",
   "execution_count": 7,
   "metadata": {},
   "outputs": [],
   "source": [
    "genes = [ 'IGHD_membrane', 'IGHM_membrane', 'IGHG1_membrane', 'IGHM_secreted', 'IGHG1_secreted','IGHA1_secreted']"
   ]
  },
  {
   "cell_type": "code",
   "execution_count": 8,
   "metadata": {},
   "outputs": [],
   "source": [
    "sc.set_figure_params(scanpy=True, dpi=80)"
   ]
  },
  {
   "cell_type": "code",
   "execution_count": 9,
   "metadata": {},
   "outputs": [],
   "source": [
    "sc.pl.umap(adata, color=genes, ncols=3,vmax=20,\n",
    "           cmap='Spectral_r')"
   ]
  },
  {
   "cell_type": "markdown",
   "metadata": {},
   "source": [
    "### 6B"
   ]
  },
  {
   "cell_type": "code",
   "execution_count": 10,
   "metadata": {},
   "outputs": [],
   "source": [
    "adata.obs['labels'] = 'Memory'\n",
    "adata.obs['labels'][(adata.obs['leiden'] == '0') | (adata.obs['leiden'] == '2')| (adata.obs['leiden'] == '3')] = 'Naive'\n",
    "adata.obs['labels'][(adata.obs['leiden'] == '5') | (adata.obs['leiden'] == '7')| (adata.obs['leiden'] == '10')] = 'Plasma IgG'\n",
    "adata.obs['labels'][(adata.obs['leiden'] == '8')] = 'Plasma IgM'\n",
    "adata.obs['labels'][(adata.obs['leiden'] == '9')] = 'Plasma IgA'"
   ]
  },
  {
   "cell_type": "code",
   "execution_count": 11,
   "metadata": {},
   "outputs": [],
   "source": [
    "sc.pl.umap(adata, color='labels',\n",
    "           palette=sns.color_palette(\"tab20\", 20))"
   ]
  },
  {
   "cell_type": "code",
   "execution_count": null,
   "metadata": {},
   "outputs": [],
   "source": []
  }
 ],
 "metadata": {
  "kernelspec": {
   "display_name": "Python 3",
   "language": "python",
   "name": "python3"
  },
  "language_info": {
   "codemirror_mode": {
    "name": "ipython",
    "version": 3
   },
   "file_extension": ".py",
   "mimetype": "text/x-python",
   "name": "python",
   "nbconvert_exporter": "python",
   "pygments_lexer": "ipython3",
   "version": "3.7.4"
  }
 },
 "nbformat": 4,
 "nbformat_minor": 2
}
